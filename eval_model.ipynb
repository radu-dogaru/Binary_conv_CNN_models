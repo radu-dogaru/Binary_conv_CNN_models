{
  "nbformat": 4,
  "nbformat_minor": 0,
  "metadata": {
    "colab": {
      "name": "eval_model.ipynb",
      "provenance": [],
      "collapsed_sections": [],
      "toc_visible": true,
      "machine_shape": "hm"
    },
    "kernelspec": {
      "display_name": "Python 3",
      "name": "python3"
    }
  },
  "cells": [
    {
      "cell_type": "markdown",
      "metadata": {
        "id": "eGKMG6PCNXG8"
      },
      "source": [
        "Loads a .h5 model and evaluates its performance \r\n",
        "\r\n",
        "R. Dogaru 4 feb. 2021 \r\n",
        "====================="
      ]
    },
    {
      "cell_type": "code",
      "metadata": {
        "colab": {
          "base_uri": "https://localhost:8080/"
        },
        "id": "yFFIr2Je52eN",
        "outputId": "0ab4d942-fa58-499e-fe24-9d709e224755"
      },
      "source": [
        "# Datasets from Keras - MNIST, F_MNIST, CIFAR \n",
        "#---------------------------------------------------\n",
        "\n",
        "\n",
        "import numpy as np\n",
        "import keras \n",
        "\n",
        "dataset='mnist' # mnist or f-mnist or cifar10 \n",
        "reduced=0\n",
        "dformat='channels_last'\n",
        "\n",
        "from keras.datasets import mnist, cifar10, cifar100, fashion_mnist\n",
        "\n",
        "if dataset=='mnist':\n",
        "    (x_train, y_train), (x_test, y_test) = mnist.load_data() # incarca date nescalate \n",
        "elif  dataset=='cifar10': \n",
        "    (x_train, y_train), (x_test, y_test) = cifar10.load_data() # incarca date nescalate \n",
        "elif  dataset=='cifar100': \n",
        "    (x_train, y_train), (x_test, y_test) = cifar100.load_data() # incarca date nescalate \n",
        "elif dataset=='f-mnist':\n",
        "    (x_train, y_train), (x_test, y_test) =  fashion_mnist.load_data()\n",
        "\n",
        "if (np.ndim(x_train)==3):   # E.g.  MNIST or F-MNIST  \n",
        "    x_train=np.reshape(x_train, [np.shape(x_train)[0],np.shape(x_train)[1],np.shape(x_train)[2], 1]) \n",
        "    x_test=np.reshape(x_test, [np.shape(x_test)[0],np.shape(x_test)[1],np.shape(x_test)[2], 1] ) \n",
        "# place a  1 in the end to keep it compatible with kernel in conv2d \n",
        "# scaling in ([0,1])\n",
        "x_train = x_train.astype('float32')\n",
        "x_test = x_test.astype('float32')\n",
        "x_train /= 255\n",
        "x_test /=255 \n",
        "inp_chan=np.shape(x_train)[3] \n",
        "print('Number of input channels in image:', inp_chan)\n",
        "num_classes=np.max(y_train)+1\n",
        "num_inputs = np.shape(x_test)[1]\n",
        "input_shape=np.shape(x_train)[1:4]\n",
        "\n",
        "\n",
        "# one can choose a lower numbers of training samples (when GPU MEM is overloaded)\n",
        "if reduced>0:\n",
        "    Ntr1=reduced\n",
        "    x_train=x_train[0:Ntr1,:,:,:]\n",
        "    y_train=y_train[0:Ntr1]\n",
        "y_train = keras.utils.to_categorical(y_train, num_classes)\n",
        "y_test = keras.utils.to_categorical(y_test, num_classes)"
      ],
      "execution_count": 1,
      "outputs": [
        {
          "output_type": "stream",
          "text": [
            "Downloading data from https://storage.googleapis.com/tensorflow/tf-keras-datasets/mnist.npz\n",
            "11493376/11490434 [==============================] - 0s 0us/step\n",
            "Number of input channels in image: 1\n"
          ],
          "name": "stdout"
        }
      ]
    },
    {
      "cell_type": "code",
      "metadata": {
        "colab": {
          "base_uri": "https://localhost:8080/"
        },
        "id": "QP1Xiogba7Rc",
        "outputId": "0551432f-d4a3-41c8-b8a7-4e489b3d9207"
      },
      "source": [
        "from keras.models import load_model\n",
        "model=load_model('blcnn_mnist_99_28_9bit.h5')  # please check in advance to have the dataset already loaded \n",
        "\n",
        "model.summary()"
      ],
      "execution_count": 72,
      "outputs": [
        {
          "output_type": "stream",
          "text": [
            "Model: \"sequential_14\"\n",
            "_________________________________________________________________\n",
            "Layer (type)                 Output Shape              Param #   \n",
            "=================================================================\n",
            "sequential_13 (Sequential)   (None, 32768)             29952     \n",
            "_________________________________________________________________\n",
            "dense_6 (Dense)              (None, 10)                327690    \n",
            "=================================================================\n",
            "Total params: 357,642\n",
            "Trainable params: 327,690\n",
            "Non-trainable params: 29,952\n",
            "_________________________________________________________________\n"
          ],
          "name": "stdout"
        }
      ]
    },
    {
      "cell_type": "code",
      "metadata": {
        "colab": {
          "base_uri": "https://localhost:8080/"
        },
        "id": "EN4hgaFvVfkF",
        "outputId": "43a03fa8-083a-42ec-844e-16f0b9c96e6f"
      },
      "source": [
        "allw=model.get_weights()\r\n",
        "lay=np.shape(allw)[0]\r\n",
        "print('there are: ', lay-2, 'binary convolutional layers plus ',2,'weights + biases output layer') \r\n",
        "\r\n",
        "for i in range(lay):\r\n",
        "  tsize=(np.shape(allw[i]))\r\n",
        "  print('Layer  ', i, ' structure is: ', tsize)\r\n",
        "  print('Min ',np.min(allw[i]), '  Max ', np.max(allw[i]))\r\n",
        "  "
      ],
      "execution_count": 73,
      "outputs": [
        {
          "output_type": "stream",
          "text": [
            "there are:  3 binary convolutional layers plus  2 weights + biases output layer\n",
            "Layer   0  structure is:  (3, 3, 1, 256)\n",
            "Min  -1.0   Max  1.0\n",
            "Layer   1  structure is:  (3, 3, 256, 4)\n",
            "Min  -1.0   Max  1.0\n",
            "Layer   2  structure is:  (3, 3, 1024, 2)\n",
            "Min  -1.0   Max  1.0\n",
            "Layer   3  structure is:  (32768, 10)\n",
            "Min  -245.0   Max  185.0\n",
            "Layer   4  structure is:  (10,)\n",
            "Min  -4.0   Max  7.0\n"
          ],
          "name": "stdout"
        },
        {
          "output_type": "stream",
          "text": [
            "/usr/local/lib/python3.6/dist-packages/numpy/core/_asarray.py:83: VisibleDeprecationWarning: Creating an ndarray from ragged nested sequences (which is a list-or-tuple of lists-or-tuples-or ndarrays with different lengths or shapes) is deprecated. If you meant to do this, you must specify 'dtype=object' when creating the ndarray\n",
            "  return array(a, dtype, copy=False, order=order)\n"
          ],
          "name": "stderr"
        }
      ]
    },
    {
      "cell_type": "code",
      "metadata": {
        "colab": {
          "base_uri": "https://localhost:8080/"
        },
        "id": "raRZApi7echD",
        "outputId": "91c3d648-c747-4309-cc61-6c5304101f95"
      },
      "source": [
        "# inspect the content of a certain layer \r\n",
        "allw[4]"
      ],
      "execution_count": 77,
      "outputs": [
        {
          "output_type": "execute_result",
          "data": {
            "text/plain": [
              "array([ 6.,  7., -2., -3.,  1., -1.,  3.,  3., -4., -1.], dtype=float32)"
            ]
          },
          "metadata": {
            "tags": []
          },
          "execution_count": 77
        }
      ]
    },
    {
      "cell_type": "code",
      "metadata": {
        "colab": {
          "base_uri": "https://localhost:8080/"
        },
        "id": "F22IVxVadHxB",
        "outputId": "03860706-82f9-4782-f11e-7cc9aebde938"
      },
      "source": [
        "import time as ti\n",
        "t1=ti.time()\n",
        "score = model.evaluate(x_test, y_test, verbose=0)\n",
        "t2=ti.time()\n",
        "print('Test accuracy:', 100*score[1], ' % ')\n",
        "print ('Time for test set : ',t2-t1)\n",
        "print('Latency / sample:  ', 1000*(t2-t1)/np.shape(x_test)[0], ' mili seconds')\n"
      ],
      "execution_count": 74,
      "outputs": [
        {
          "output_type": "stream",
          "text": [
            "Test accuracy: 99.27999973297119  % \n",
            "Time for test set :  15.237890005111694\n",
            "Latency / sample:   1.5237890005111694  mili seconds\n"
          ],
          "name": "stdout"
        }
      ]
    },
    {
      "cell_type": "code",
      "metadata": {
        "colab": {
          "base_uri": "https://localhost:8080/",
          "height": 298
        },
        "id": "dd_6qiBEeaQj",
        "outputId": "8ee6d979-21a9-4ece-9442-587ed8e88cc8"
      },
      "source": [
        "# VIZUALIZARE EXEMPLE \n",
        "\n",
        "selectia=int(np.shape(x_test)[0]*np.random.rand(1))  # \n",
        "\n",
        "img1=x_test[selectia,:,:,:]\n",
        "import matplotlib.pyplot as plt\n",
        "import matplotlib.image as mpimg\n",
        "if np.shape(x_train)[3]==1:\n",
        "  plt.imshow(img1[:,:,0],cmap='gray')\n",
        "elif np.shape(x_train)[3]==3:\n",
        "  plt.imshow(img1)\n",
        "\n",
        "label=np.dot(y_test[selectia,:],1+np.array(range(num_classes)).T)\n",
        "print('Eticheta originala:', label)\n",
        "z=model.predict(x_test[selectia:selectia+1,:,:,:])\n",
        "print('Eticheta recunoscuta: ',1+np.argmax(z))\n",
        "\n"
      ],
      "execution_count": 75,
      "outputs": [
        {
          "output_type": "stream",
          "text": [
            "Eticheta originala: 3.0\n",
            "Eticheta recunoscuta:  3\n"
          ],
          "name": "stdout"
        },
        {
          "output_type": "display_data",
          "data": {
            "image/png": "[encoded data removed]",
            "text/plain": [
              "<Figure size 432x288 with 1 Axes>"
            ]
          },
          "metadata": {
            "tags": [],
            "needs_background": "light"
          }
        }
      ]
    },
    {
      "cell_type": "code",
      "metadata": {
        "colab": {
          "base_uri": "https://localhost:8080/"
        },
        "id": "xAjHg2IHetNK",
        "outputId": "a79579b6-4477-443c-8b40-06d7e3444a08"
      },
      "source": [
        "# Evaluare matrice de confuzie si performamnte de clasificare \n",
        "# Permite sa evaluam care clasa are acuratetea mai mica etc.. \n",
        "#----------------------------------------------------------------\n",
        "\n",
        "labels=(np.dot(y_test,np.array(range(num_classes)).T)).astype('int16')\n",
        "pred= model.predict(x_test)\n",
        "predicted_class_indices=np.argmax(pred,axis=1)\n",
        "from sklearn.metrics import classification_report, confusion_matrix\n",
        "C=confusion_matrix(predicted_class_indices,labels)\n",
        "print (C)\n",
        "print('Classification Report')\n",
        "print(classification_report(labels,predicted_class_indices ))\n"
      ],
      "execution_count": 76,
      "outputs": [
        {
          "output_type": "stream",
          "text": [
            "[[ 977    0    1    0    0    1    4    0    2    0]\n",
            " [   0 1130    0    0    0    0    1    2    0    0]\n",
            " [   0    1 1028    0    0    0    1    3    1    0]\n",
            " [   0    1    0 1005    0    3    0    0    0    2]\n",
            " [   0    0    0    0  978    0    1    0    0    7]\n",
            " [   0    0    0    3    0  886    4    0    0    1]\n",
            " [   0    2    0    0    0    1  944    0    0    0]\n",
            " [   1    1    3    0    0    0    0 1020    2    4]\n",
            " [   2    0    0    2    0    0    3    1  967    2]\n",
            " [   0    0    0    0    4    1    0    2    2  993]]\n",
            "Classification Report\n",
            "              precision    recall  f1-score   support\n",
            "\n",
            "           0       0.99      1.00      0.99       980\n",
            "           1       1.00      1.00      1.00      1135\n",
            "           2       0.99      1.00      1.00      1032\n",
            "           3       0.99      1.00      0.99      1010\n",
            "           4       0.99      1.00      0.99       982\n",
            "           5       0.99      0.99      0.99       892\n",
            "           6       1.00      0.99      0.99       958\n",
            "           7       0.99      0.99      0.99      1028\n",
            "           8       0.99      0.99      0.99       974\n",
            "           9       0.99      0.98      0.99      1009\n",
            "\n",
            "    accuracy                           0.99     10000\n",
            "   macro avg       0.99      0.99      0.99     10000\n",
            "weighted avg       0.99      0.99      0.99     10000\n",
            "\n"
          ],
          "name": "stdout"
        }
      ]
    }
  ]
}